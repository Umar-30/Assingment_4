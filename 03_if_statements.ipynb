{
  "nbformat": 4,
  "nbformat_minor": 0,
  "metadata": {
    "colab": {
      "provenance": [],
      "authorship_tag": "ABX9TyNCYjnvs/QVQU61ux/VlxIS",
      "include_colab_link": true
    },
    "kernelspec": {
      "name": "python3",
      "display_name": "Python 3"
    },
    "language_info": {
      "name": "python"
    }
  },
  "cells": [
    {
      "cell_type": "markdown",
      "metadata": {
        "id": "view-in-github",
        "colab_type": "text"
      },
      "source": [
        "<a href=\"https://colab.research.google.com/github/Umar-30/Assingment_4/blob/main/03_if_statements.ipynb\" target=\"_parent\"><img src=\"https://colab.research.google.com/assets/colab-badge.svg\" alt=\"Open In Colab\"/></a>"
      ]
    },
    {
      "cell_type": "markdown",
      "source": [
        "01. Print_events.md"
      ],
      "metadata": {
        "id": "SQNADVMwSEc0"
      }
    },
    {
      "cell_type": "code",
      "source": [
        "def even():\n",
        "  print(\"Here are even numbers\")\n",
        "  for i in range(20):\n",
        "    even = i*2\n",
        "    print(even)\n",
        "\n",
        "if __name__ == '__main__':\n",
        "  even()"
      ],
      "metadata": {
        "colab": {
          "base_uri": "https://localhost:8080/"
        },
        "id": "Q1AenePMSLDt",
        "outputId": "79be1535-ca30-4076-fdc1-a0c420b6121a"
      },
      "execution_count": 4,
      "outputs": [
        {
          "output_type": "stream",
          "name": "stdout",
          "text": [
            "Here are even numbers\n",
            "0\n",
            "2\n",
            "4\n",
            "6\n",
            "8\n",
            "10\n",
            "12\n",
            "14\n",
            "16\n",
            "18\n",
            "20\n",
            "22\n",
            "24\n",
            "26\n",
            "28\n",
            "30\n",
            "32\n",
            "34\n",
            "36\n",
            "38\n"
          ]
        }
      ]
    },
    {
      "cell_type": "markdown",
      "source": [
        "02 International_voting_age.md"
      ],
      "metadata": {
        "id": "fgIgFZkHToHb"
      }
    },
    {
      "cell_type": "code",
      "source": [
        "Peturksbouipo:int = 16\n",
        "Stanlau:int = 25\n",
        "Mayengua:int = 48\n",
        "age:int = int(input(\"Howold are you? \"))\n",
        "\n",
        "def main():\n",
        "\n",
        "  if age >= Peturksbouipo:\n",
        "    print(f\"your age is {age}. you are eligible to vote in Peturksbouipo!\")\n",
        "  else:\n",
        "    print(f\"your age is {age}. you are not eligible to vote in Peturksbouipo!\")\n",
        "\n",
        "if age >= Stanlau:\n",
        "    print(f\"your age is {age}. you are eligible to vote in Stanlau!\")\n",
        "else:\n",
        "    print(f\"your age is {age}. you are not eligible to vote in Stanlau!\")\n",
        "\n",
        "if age >= Mayengua:\n",
        "    print(f\"your age is {age}. you are eligible to vote in Mayengua!\")\n",
        "else:\n",
        "    print(f\"your age is {age}. you are not eligible to vote in Mayengua!\")\n",
        "\n",
        "if __name__ == '__main__':\n",
        "  main()"
      ],
      "metadata": {
        "colab": {
          "base_uri": "https://localhost:8080/"
        },
        "id": "k85GdxKNT_BY",
        "outputId": "f6d4f70d-cd93-49ad-8340-6c9c3f980fb4"
      },
      "execution_count": 5,
      "outputs": [
        {
          "output_type": "stream",
          "name": "stdout",
          "text": [
            "Howold are you? 28\n",
            "your age is 28. you are eligible to vote in Stanlau!\n",
            "your age is 28. you are not eligible to vote in Mayengua!\n",
            "your age is 28. you are eligible to vote in Peturksbouipo!\n"
          ]
        }
      ]
    },
    {
      "cell_type": "markdown",
      "source": [
        "03. Leap_year"
      ],
      "metadata": {
        "id": "C5rddTHV4w2J"
      }
    },
    {
      "cell_type": "code",
      "source": [
        "def leap_year():\n",
        "  year:int = int(input(\"Enter as year: \"))\n",
        "\n",
        "  if year % 4 == 0:\n",
        "    if year % 100 == 0:\n",
        "      if year % 400 == 0:\n",
        "        print(f\"{year} is a leap year\")\n",
        "      else:\n",
        "        print(f\"{year} is not a leap year\")\n",
        "    else:\n",
        "      print(f\"{year} is a leap year\")\n",
        "  else:\n",
        "    print(f\"{year} is not a leap year\")\n",
        "\n",
        "\n",
        "if __name__ == '__main__':\n",
        "  leap_year()"
      ],
      "metadata": {
        "colab": {
          "base_uri": "https://localhost:8080/"
        },
        "id": "fIs60tZ_43Tf",
        "outputId": "7fdd9791-3967-4692-ccee-770cfabec9e5"
      },
      "execution_count": 16,
      "outputs": [
        {
          "output_type": "stream",
          "name": "stdout",
          "text": [
            "Enter as year: 2025\n",
            "2025 is not a leap year\n"
          ]
        }
      ]
    },
    {
      "cell_type": "markdown",
      "source": [
        "04. Tall_enough_to_ride"
      ],
      "metadata": {
        "id": "HXE3dlv47e12"
      }
    },
    {
      "cell_type": "code",
      "source": [
        "min_height:int = 50\n",
        "def main():\n",
        "  user:int = int(input(\"how tall are you? \"))\n",
        "  if user >= min_height:\n",
        "    print(\"you are tall enough to ride.\")\n",
        "  else:\n",
        "    print(\"you are not tall enough to ride.May be next year. \")\n",
        "\n",
        "if __name__ == '__main__':\n",
        "  main()\n"
      ],
      "metadata": {
        "colab": {
          "base_uri": "https://localhost:8080/"
        },
        "id": "r8MijW8d7l0u",
        "outputId": "a8ed566f-a315-4520-fe22-3037138a4c26"
      },
      "execution_count": 18,
      "outputs": [
        {
          "output_type": "stream",
          "name": "stdout",
          "text": [
            "how tall are you? 54\n",
            "you are tall enough to ride\n"
          ]
        }
      ]
    },
    {
      "cell_type": "markdown",
      "source": [
        "05. Random_numbers"
      ],
      "metadata": {
        "id": "-GWUln3M-zId"
      }
    },
    {
      "cell_type": "code",
      "source": [
        "import random\n",
        "\n",
        "def main():\n",
        "  print(\"Here are 10 random numbers\")\n",
        "  for i in range(10):\n",
        "    num:list[int] = random.randint(1,100)\n",
        "    print(num)\n",
        "\n",
        "if __name__ == '__main__':\n",
        "  main()\n"
      ],
      "metadata": {
        "colab": {
          "base_uri": "https://localhost:8080/"
        },
        "id": "f8rtKEmj-4DS",
        "outputId": "0d9d11eb-ddfd-49f8-a796-d88004687e68"
      },
      "execution_count": 21,
      "outputs": [
        {
          "output_type": "stream",
          "name": "stdout",
          "text": [
            "Here are 10 random numbers\n",
            "68\n",
            "71\n",
            "81\n",
            "31\n",
            "71\n",
            "84\n",
            "26\n",
            "17\n",
            "33\n",
            "53\n"
          ]
        }
      ]
    }
  ]
}