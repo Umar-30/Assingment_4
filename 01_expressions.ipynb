{
  "nbformat": 4,
  "nbformat_minor": 0,
  "metadata": {
    "colab": {
      "provenance": [],
      "authorship_tag": "ABX9TyOsw2jNN5qOzvom4tMdLjA+",
      "include_colab_link": true
    },
    "kernelspec": {
      "name": "python3",
      "display_name": "Python 3"
    },
    "language_info": {
      "name": "python"
    }
  },
  "cells": [
    {
      "cell_type": "markdown",
      "metadata": {
        "id": "view-in-github",
        "colab_type": "text"
      },
      "source": [
        "<a href=\"https://colab.research.google.com/github/Umar-30/Assingment_4/blob/main/01_expressions.ipynb\" target=\"_parent\"><img src=\"https://colab.research.google.com/assets/colab-badge.svg\" alt=\"Open In Colab\"/></a>"
      ]
    },
    {
      "cell_type": "markdown",
      "source": [
        "01. Dicesimulator"
      ],
      "metadata": {
        "id": "XQVUntsVcYfE"
      }
    },
    {
      "cell_type": "code",
      "source": [
        "import random\n",
        "\n",
        "def roll_dice():\n",
        "  die1:int = random.randint(1,6)\n",
        "  die2:int = random.randint(1,6)\n",
        "  total:int = die1 + die2\n",
        "  print(f\"Total of two dice: {total} \")\n",
        "\n",
        "def main():\n",
        "    die1:int = 10\n",
        "    print(\"die1 in main() start as: \" + str(die1))\n",
        "    roll_dice()\n",
        "    roll_dice()\n",
        "    roll_dice()\n",
        "    print(\"die1 in main() is: \" + str(die1))\n",
        "\n",
        "if __name__ == \"__main__\":\n",
        "  main()"
      ],
      "metadata": {
        "colab": {
          "base_uri": "https://localhost:8080/"
        },
        "id": "kFC_bRuOex_6",
        "outputId": "c11ed4a0-831d-4d1a-c0f5-eb4289e235fe"
      },
      "execution_count": 2,
      "outputs": [
        {
          "output_type": "stream",
          "name": "stdout",
          "text": [
            "die1 in main() start as: 10\n",
            "Total of two dice: 3 \n",
            "Total of two dice: 5 \n",
            "Total of two dice: 8 \n",
            "die1 in main() is: 10\n"
          ]
        }
      ]
    },
    {
      "cell_type": "markdown",
      "source": [
        "02. e=mc2"
      ],
      "metadata": {
        "id": "pYPvumbMeyiR"
      }
    },
    {
      "cell_type": "code",
      "source": [
        "def energy():\n",
        "  c:float = 299792458\n",
        "  m:float = float(input(\"Enter Kilos of mass: \"))\n",
        "  print(\"e = m*c^2\")\n",
        "  print(\"Mass = \" + str(m) + \"kg\")\n",
        "  print(\"C = \" + str(c) + \"m/s\")\n",
        "  print(\"e = \" + str(m*c**2) + \" Joules\")\n",
        "if __name__ == \"__main__\":\n",
        "  energy()"
      ],
      "metadata": {
        "colab": {
          "base_uri": "https://localhost:8080/"
        },
        "id": "HEAnYa1zfHvn",
        "outputId": "c017c401-9cf7-42f1-eb8f-d98fe33dde11"
      },
      "execution_count": 9,
      "outputs": [
        {
          "output_type": "stream",
          "name": "stdout",
          "text": [
            "Enter Kilos of mass: 20\n",
            "e = m*c^2\n",
            "Mass = 20.0kg\n",
            "C = 299792458m/s\n",
            "e = 1.7975103574736353e+18 Joules\n"
          ]
        }
      ]
    },
    {
      "cell_type": "markdown",
      "source": [
        "03. feet_to_inches"
      ],
      "metadata": {
        "id": "VyPxT-A7hLS3"
      }
    },
    {
      "cell_type": "code",
      "source": [
        "inch:int = 12\n",
        "\n",
        "def foot():\n",
        "  feet:int = int(input(\"Enter a number of feet and I will convert into inches \"))\n",
        "  print(f\"There are {inch * feet} inches in {feet} feet. \")\n",
        "\n",
        "if __name__ == \"__main__\":\n",
        "  foot()"
      ],
      "metadata": {
        "colab": {
          "base_uri": "https://localhost:8080/"
        },
        "id": "8D07HPnyhRzS",
        "outputId": "b29d8db0-f6c5-482c-fb22-dc84b35d7c21"
      },
      "execution_count": 11,
      "outputs": [
        {
          "output_type": "stream",
          "name": "stdout",
          "text": [
            "Enter a number of feet and I will convert into inches  24\n",
            "There are 288 inches in 24 feet. \n"
          ]
        }
      ]
    },
    {
      "cell_type": "markdown",
      "source": [
        "04. Pythagorean_theorem"
      ],
      "metadata": {
        "id": "GfSg6uTSi2vk"
      }
    },
    {
      "cell_type": "code",
      "source": [
        "import math\n",
        "\n",
        "def triangle():\n",
        "  ab:float = float(input(\"Enter the lenght of the side ab\"))\n",
        "  ac:float = float(input(\"Enter the lenght of the side ac\"))\n",
        "  bc:float = math.sqrt(ab**2 + ac**2)\n",
        "  print(f\"The lenght of bc (the hypothenuse is : {bc})\")\n",
        "\n",
        "if __name__ == \"__main__\":\n",
        "  triangle()"
      ],
      "metadata": {
        "colab": {
          "base_uri": "https://localhost:8080/"
        },
        "id": "-2eyf6Cri9Hz",
        "outputId": "d9ae895a-e200-4317-e2e0-c654df0f87c6"
      },
      "execution_count": 3,
      "outputs": [
        {
          "output_type": "stream",
          "name": "stdout",
          "text": [
            "Enter the lenght of the side ab4\n",
            "Enter the lenght of the side ac5\n",
            "The lenght of bc (the hypothenuse is : 6.4031242374328485)\n"
          ]
        }
      ]
    },
    {
      "cell_type": "markdown",
      "source": [
        "05. Remainder_division"
      ],
      "metadata": {
        "id": "XVQHqN-dwDnO"
      }
    },
    {
      "cell_type": "code",
      "source": [
        "def reminder():\n",
        "  num1:int = int(input(\"Enter an integer to be divided: \"))\n",
        "  num2:int = int(input(\"Enter an integer to divide by : \"))\n",
        "  quotient:int = num1 // num2\n",
        "  reminder:int = num1 %  num2\n",
        "  print(f\"The result of following division is {quotient} with the erminder of {reminder}\")\n",
        "\n",
        "if __name__ == \"__main__\":\n",
        "  reminder()\n"
      ],
      "metadata": {
        "colab": {
          "base_uri": "https://localhost:8080/"
        },
        "id": "EemsoldswHWJ",
        "outputId": "fe73034a-1682-49bd-b655-498a31264739"
      },
      "execution_count": 4,
      "outputs": [
        {
          "output_type": "stream",
          "name": "stdout",
          "text": [
            "Enter an integer to be divided: 34\n",
            "Enter an integer to divide by : 5\n",
            "The result of following division is 6 with the erminder of 4\n"
          ]
        }
      ]
    },
    {
      "cell_type": "markdown",
      "source": [
        "06. Rolldice"
      ],
      "metadata": {
        "id": "AA0FGBRuxfjb"
      }
    },
    {
      "cell_type": "code",
      "source": [
        "import random\n",
        "\n",
        "def dice():\n",
        "  die1:int = random.randint(1, 6)\n",
        "  die2:int = random.randint(1, 6)\n",
        "  total:int = int(die1 + die2)\n",
        "  print(\"First die:\" + str(die1))\n",
        "  print(\"Second die:\" + str(die2))\n",
        "  print(f\"Total of two dies : {total}\" )\n",
        "\n",
        "if __name__==\"__main__\":\n",
        "  dice()\n"
      ],
      "metadata": {
        "colab": {
          "base_uri": "https://localhost:8080/"
        },
        "id": "g_LzURZVyOr1",
        "outputId": "a969a5a3-cf6a-4b32-995e-dd7410a2805e"
      },
      "execution_count": 10,
      "outputs": [
        {
          "output_type": "stream",
          "name": "stdout",
          "text": [
            "First die:2\n",
            "Second die:5\n",
            "Total of two dies : 7\n"
          ]
        }
      ]
    },
    {
      "cell_type": "markdown",
      "source": [
        "06. Seconds_in_year\n"
      ],
      "metadata": {
        "id": "w-eiY1MpzW50"
      }
    },
    {
      "cell_type": "code",
      "source": [
        "days_in_year:int = 365\n",
        "hours_per_day:int = 24\n",
        "minutes_per_hours:int = 60\n",
        "second_per_minutes:int =60\n",
        "\n",
        "def seconds():\n",
        "  print(f\"There are {days_in_year * hours_per_day * minutes_per_hours * second_per_minutes} seconds in a year.\")\n",
        "\n",
        "if __name__ == \"__main__\":\n",
        "  seconds()\n"
      ],
      "metadata": {
        "colab": {
          "base_uri": "https://localhost:8080/"
        },
        "id": "7rWpXj5YzfdO",
        "outputId": "2ac98433-f6db-4531-daf6-e800fd2abf22"
      },
      "execution_count": 11,
      "outputs": [
        {
          "output_type": "stream",
          "name": "stdout",
          "text": [
            "There are 31536000 seconds in a year.\n"
          ]
        }
      ]
    },
    {
      "cell_type": "markdown",
      "source": [
        "07. Tiny_mad_lib"
      ],
      "metadata": {
        "id": "LrLD4W271GUJ"
      }
    },
    {
      "cell_type": "code",
      "source": [
        "def mad_lib():\n",
        "  noun:str = str(input(\"Enter a noun: \"))\n",
        "  adjective:str = str(input(\"Enter an adjective: \"))\n",
        "  verb:str = str(input(\"Enter a verb: \"))\n",
        "  print(f\"Do your {verb} {adjective} { noun}?\")\n",
        "\n",
        "if __name__ == \"__main__\":\n",
        "  mad_lib()"
      ],
      "metadata": {
        "colab": {
          "base_uri": "https://localhost:8080/"
        },
        "id": "Vb65W_301Nf1",
        "outputId": "045d28a9-ed86-47bf-a094-2f08a5ac6f97"
      },
      "execution_count": 15,
      "outputs": [
        {
          "output_type": "stream",
          "name": "stdout",
          "text": [
            "Enter a noun: shadufta\n",
            "Enter an adjective: fast\n",
            "Enter a verb: work\n",
            "Do your work fast shadufta?\n"
          ]
        }
      ]
    }
  ]
}