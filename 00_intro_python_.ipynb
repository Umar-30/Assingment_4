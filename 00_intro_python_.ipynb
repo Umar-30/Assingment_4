{
  "nbformat": 4,
  "nbformat_minor": 0,
  "metadata": {
    "colab": {
      "provenance": [],
      "authorship_tag": "ABX9TyNbSpmEBP35t4qGgIjYWvg1",
      "include_colab_link": true
    },
    "kernelspec": {
      "name": "python3",
      "display_name": "Python 3"
    },
    "language_info": {
      "name": "python"
    }
  },
  "cells": [
    {
      "cell_type": "markdown",
      "metadata": {
        "id": "view-in-github",
        "colab_type": "text"
      },
      "source": [
        "<a href=\"https://colab.research.google.com/github/Umar-30/Assingment_4/blob/main/00_intro_python_.ipynb\" target=\"_parent\"><img src=\"https://colab.research.google.com/assets/colab-badge.svg\" alt=\"Open In Colab\"/></a>"
      ]
    },
    {
      "cell_type": "markdown",
      "source": [
        "01. Add two number"
      ],
      "metadata": {
        "id": "lVFrYBhfE-e9"
      }
    },
    {
      "cell_type": "code",
      "source": [
        "def add():\n",
        "    print(\"This is application for add two numbers\")\n",
        "    first_number = int(input(\"Enter your first number: \"))\n",
        "    second_number = int(input(\"Enter your second number: \"))\n",
        "    total = int(first_number + second_number)\n",
        "    print(f\"The total sum of {first_number} and {second_number} is {total}\")\n",
        "\n",
        "if __name__ == '__main__':\n",
        "    add()"
      ],
      "metadata": {
        "colab": {
          "base_uri": "https://localhost:8080/"
        },
        "id": "JpkrpF27FDn_",
        "outputId": "ea2fcb71-39a9-4d37-b8a0-f8d75bde43a5"
      },
      "execution_count": 1,
      "outputs": [
        {
          "output_type": "stream",
          "name": "stdout",
          "text": [
            "This is application for add two numbers\n",
            "Enter your first number: 25\n",
            "Enter your second number: 30\n",
            "The total sum of 25 and 30 is 55\n"
          ]
        }
      ]
    },
    {
      "cell_type": "markdown",
      "source": [
        "02. Agreement_bot"
      ],
      "metadata": {
        "id": "Tc4_jf02It0p"
      }
    },
    {
      "cell_type": "code",
      "source": [
        "# This program asks for your favourite animal and then prints it out\n",
        "def bot():\n",
        "    animal = str(input(\"What is your favourite animal? \"))\n",
        "    print(f\"My favourite animal is {animal}!\")\n",
        "\n",
        "if __name__ == '__main__':\n",
        "    bot()"
      ],
      "metadata": {
        "colab": {
          "base_uri": "https://localhost:8080/"
        },
        "id": "D1_hMwPaI1Yv",
        "outputId": "c6a5dbeb-8bd2-4e58-a3a8-510619768310"
      },
      "execution_count": 2,
      "outputs": [
        {
          "output_type": "stream",
          "name": "stdout",
          "text": [
            "What is your favourite animal? cat\n",
            "My favourite animal is cat!\n"
          ]
        }
      ]
    },
    {
      "cell_type": "markdown",
      "source": [
        "03. Fahrenheit_to_Celsius"
      ],
      "metadata": {
        "id": "4rCn6nzaJzJ6"
      }
    },
    {
      "cell_type": "code",
      "source": [
        "def temp():\n",
        "    print(\"This function for convert Fahrenheit in celsius\")\n",
        "    fahrenheit_degree = float(input(\"Enter the Fahrenheit degree: \"))\n",
        "    celsius_degree = (fahrenheit_degree - 32) * 5.0 / 9.0\n",
        "    print(f\"The temperature in Celsius is {fahrenheit_degree} F = {celsius_degree} C.\")\n",
        "\n",
        "\n",
        "if __name__ == '__main__':\n",
        "    temp()\n",
        "\n"
      ],
      "metadata": {
        "colab": {
          "base_uri": "https://localhost:8080/"
        },
        "id": "zKOaERZHKU2M",
        "outputId": "d15b7f31-80b1-48ff-a9c9-14eba0003b03"
      },
      "execution_count": 4,
      "outputs": [
        {
          "output_type": "stream",
          "name": "stdout",
          "text": [
            "This function for convert Fahrenheit in celsius\n",
            "Enter the Fahrenheit degree: 76\n",
            "The temperature in Celsius is 76.0 F = 24.444444444444443 C.\n"
          ]
        }
      ]
    },
    {
      "cell_type": "markdown",
      "source": [
        "04. How old are they\n"
      ],
      "metadata": {
        "id": "zpaMG4L_L00u"
      }
    },
    {
      "cell_type": "code",
      "source": [
        "def age():\n",
        "    # Anton's age is given as 21 years old\n",
        "    anton : int = 21\n",
        "    # Beth is 6 years oider than Anton, so add 6 to Anton's age\n",
        "    beth : int = 6 + anton\n",
        "    # Chen is 20 years olders than Beth, so add 20 to Beth's age\n",
        "    chen : int = 20 + beth\n",
        "    # Draw is as old as old as Chen's age plus Anton's age\n",
        "    drew : int = chen + anton\n",
        "    # Ethan is the same age as chen, so set Ethan's age equal to Chen's age\n",
        "    ethon : int = chen\n",
        "\n",
        "    # Print out all the ages!\n",
        "    print(\"Anton is \" + str(anton) + \" years old.\")\n",
        "    print(\"Beth is \" + str(beth) + \" years old.\")\n",
        "    print(\"Chen is \" + str(chen) + \" years old.\")\n",
        "    print(\"Drew is \" + str(drew) + \" years old.\")\n",
        "    print(\"Ethan is \" + str(ethon) + \" years old.\")\n",
        "\n",
        "\n",
        "if __name__ == '__main__':\n",
        "    age()"
      ],
      "metadata": {
        "colab": {
          "base_uri": "https://localhost:8080/"
        },
        "id": "pMXLEYApL9RX",
        "outputId": "6573fc85-ec64-4087-9e14-c6e6010c9624"
      },
      "execution_count": 12,
      "outputs": [
        {
          "output_type": "stream",
          "name": "stdout",
          "text": [
            "Anton is 21 years old.\n",
            "Beth is 27 years old.\n",
            "Chen is 47 years old.\n",
            "Drew is 68 years old.\n",
            "Ethan is 47 years old.\n"
          ]
        }
      ]
    },
    {
      "cell_type": "markdown",
      "source": [
        "05. Triangle pyramid"
      ],
      "metadata": {
        "id": "8Ws7HdFOODQ7"
      }
    },
    {
      "cell_type": "code",
      "source": [
        "def triangle():\n",
        "  print(\"This function is about perameter of triangle.\")\n",
        "  side1:float = float(input(\"Enter the first side of triangle: \"))\n",
        "  side2:float = float(input(\"Enter the second side of triangle: \"))\n",
        "  side3:float = float(input(\"Enter the third side of triangle: \"))\n",
        "  total:float = float(side1 + side2 + side3)\n",
        "  print(f\"The perameter of triangle is {total}\")\n",
        "\n",
        "if __name__ == '__main__':\n",
        "    triangle()"
      ],
      "metadata": {
        "colab": {
          "base_uri": "https://localhost:8080/"
        },
        "id": "8J1sDqRNOKiB",
        "outputId": "417f10aa-22af-48df-ca62-a2f968c5ac6c"
      },
      "execution_count": 13,
      "outputs": [
        {
          "output_type": "stream",
          "name": "stdout",
          "text": [
            "This function is about perameter of triangle.\n",
            "Enter the first side of triangle: 10\n",
            "Enter the second side of triangle: 20\n",
            "Enter the third side of triangle: 30\n",
            "The perameter of triangle is 60.0\n"
          ]
        }
      ]
    },
    {
      "cell_type": "markdown",
      "source": [
        "06. Square number"
      ],
      "metadata": {
        "id": "TZTCrSrFP-uP"
      }
    },
    {
      "cell_type": "code",
      "source": [
        "def square():\n",
        "  print(\"This function for square of given number\")\n",
        "  number:int = int(input(\"Enter any number and i will give you square of it: \"))\n",
        "  total:int = int(number * number)\n",
        "  print(f\"The square of {number} is {total}\")\n",
        "\n",
        "if __name__ == '__main__':\n",
        "    square()"
      ],
      "metadata": {
        "colab": {
          "base_uri": "https://localhost:8080/"
        },
        "id": "GzsQBaneQE-L",
        "outputId": "2d585dba-b3f6-4408-dbbe-16fef88bb63e"
      },
      "execution_count": 14,
      "outputs": [
        {
          "output_type": "stream",
          "name": "stdout",
          "text": [
            "This function for square of given number\n",
            "Enter any number and i will give you square of it: 5\n",
            "The square of 5 is 25\n"
          ]
        }
      ]
    }
  ]
}