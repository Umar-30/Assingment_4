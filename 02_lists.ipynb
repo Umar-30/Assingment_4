{
  "nbformat": 4,
  "nbformat_minor": 0,
  "metadata": {
    "colab": {
      "provenance": [],
      "authorship_tag": "ABX9TyMVyOsWzQbSnORG13qNIr9U",
      "include_colab_link": true
    },
    "kernelspec": {
      "name": "python3",
      "display_name": "Python 3"
    },
    "language_info": {
      "name": "python"
    }
  },
  "cells": [
    {
      "cell_type": "markdown",
      "metadata": {
        "id": "view-in-github",
        "colab_type": "text"
      },
      "source": [
        "<a href=\"https://colab.research.google.com/github/Umar-30/Assingment_4/blob/main/02_lists.ipynb\" target=\"_parent\"><img src=\"https://colab.research.google.com/assets/colab-badge.svg\" alt=\"Open In Colab\"/></a>"
      ]
    },
    {
      "cell_type": "markdown",
      "source": [
        "01. Add_many_number"
      ],
      "metadata": {
        "id": "URHht3HL8J6m"
      }
    },
    {
      "cell_type": "code",
      "source": [
        "def add_numbers(numbers)->int:\n",
        "    num:int = 0\n",
        "    for n in numbers:\n",
        "       num += n\n",
        "\n",
        "    return num\n",
        "\n",
        "def main():\n",
        "  numbers:list[int] = [1,2,3,4,5,6]\n",
        "  sum:int = add_numbers(numbers)\n",
        "  print(f\"The sum of list number is {sum}\")\n",
        "\n",
        "if __name__ == \"__main__\":\n",
        "    main()"
      ],
      "metadata": {
        "colab": {
          "base_uri": "https://localhost:8080/"
        },
        "id": "yUpZ_Brc8NZV",
        "outputId": "0eaa2d54-e275-4ebf-c556-62566bd3cfbc"
      },
      "execution_count": 12,
      "outputs": [
        {
          "output_type": "stream",
          "name": "stdout",
          "text": [
            "The sum of list number is 21\n"
          ]
        }
      ]
    },
    {
      "cell_type": "markdown",
      "source": [
        "02. Double_list"
      ],
      "metadata": {
        "id": "EY9_jDHmHEy6"
      }
    },
    {
      "cell_type": "code",
      "source": [
        "def main():\n",
        "  numbers:list[int] = [1,2,3,4,5]\n",
        "  for i in range(len(numbers)):\n",
        "    index = numbers[i]\n",
        "    numbers[i] = index * 2\n",
        "\n",
        "  print(f\"The double_list is {numbers}\")\n",
        "\n",
        "if __name__ == \"__main__\":\n",
        "    main()"
      ],
      "metadata": {
        "colab": {
          "base_uri": "https://localhost:8080/"
        },
        "id": "SlCq6wvdHKdm",
        "outputId": "0d7e3ef5-96be-42de-e1ff-f159ae5f7360"
      },
      "execution_count": 16,
      "outputs": [
        {
          "output_type": "stream",
          "name": "stdout",
          "text": [
            "The double_list is [2, 4, 6, 8, 10]\n"
          ]
        }
      ]
    },
    {
      "cell_type": "markdown",
      "source": [
        "04. Flowing_with_data_structures"
      ],
      "metadata": {
        "id": "emPmJHTmIPDQ"
      }
    },
    {
      "cell_type": "code",
      "source": [
        "def add_copies(my_list, data):\n",
        "  for i in range(3):\n",
        "    my_list.append(data)\n",
        "\n",
        "def main():\n",
        "  message = input(\"Enter a message to copy: \")\n",
        "  my_list = []\n",
        "  print(\"List before:\",my_list)\n",
        "  add_copies(my_list,message)\n",
        "  print(\"List after:\",my_list)\n",
        "\n",
        "if __name__ == \"__main__\":\n",
        "    main()"
      ],
      "metadata": {
        "colab": {
          "base_uri": "https://localhost:8080/"
        },
        "id": "pSgwKZRhIeZM",
        "outputId": "232d1e25-0a1d-4a5f-c109-8bb4ce604f7a"
      },
      "execution_count": 19,
      "outputs": [
        {
          "output_type": "stream",
          "name": "stdout",
          "text": [
            "Enter a message to copy: allah is great.\n",
            "List before: []\n",
            "List after: ['allah is great.', 'allah is great.', 'allah is great.']\n"
          ]
        }
      ]
    },
    {
      "cell_type": "markdown",
      "source": [
        "05. Get_first_element"
      ],
      "metadata": {
        "id": "tKd3jVcAKmB0"
      }
    },
    {
      "cell_type": "code",
      "source": [
        "def get_first_element(lst):\n",
        "  print(lst[0])\n",
        "\n",
        "def get_lst():\n",
        "  lst = []\n",
        "  element:str = input(\"Enter an element to add to the list: \")\n",
        "  while element != \"\":\n",
        "    lst.append(element)\n",
        "    return lst\n",
        "\n",
        "\n",
        "\n",
        "def main():\n",
        "  lst = get_lst()\n",
        "  get_first_element(lst)\n",
        "\n",
        "if __name__ == \"__main__\":\n",
        "    main()"
      ],
      "metadata": {
        "colab": {
          "base_uri": "https://localhost:8080/"
        },
        "id": "H78d6YL1Kt_U",
        "outputId": "7b43e3ca-0bd8-4234-a1c1-292f6d5edc4f"
      },
      "execution_count": 24,
      "outputs": [
        {
          "output_type": "stream",
          "name": "stdout",
          "text": [
            "Enter an element to add to the list: 20\n",
            "20\n"
          ]
        }
      ]
    },
    {
      "cell_type": "markdown",
      "source": [
        "06. Get_last_element"
      ],
      "metadata": {
        "id": "e_DgbMlDMvK9"
      }
    },
    {
      "cell_type": "code",
      "source": [
        "def get_last_element(lst):\n",
        "  print(f\"The last element of list is {lst[-1]}\")\n",
        "\n",
        "def main():\n",
        "  lst = [1,2,3,4,5,6]\n",
        "  get_last_element(lst)\n",
        "\n",
        "if __name__ == \"__main__\":\n",
        "    main()"
      ],
      "metadata": {
        "colab": {
          "base_uri": "https://localhost:8080/"
        },
        "id": "3sPvaFTHM5j6",
        "outputId": "52004162-c86a-4944-dd4f-8031ba0b86f5"
      },
      "execution_count": 26,
      "outputs": [
        {
          "output_type": "stream",
          "name": "stdout",
          "text": [
            "The last element of list is 6\n"
          ]
        }
      ]
    },
    {
      "cell_type": "markdown",
      "source": [
        "07. Get_list"
      ],
      "metadata": {
        "id": "i-vbVDoKNuh-"
      }
    },
    {
      "cell_type": "code",
      "source": [
        "def main():\n",
        "  lst = []\n",
        "  val = input(\"Enter a value to add to the list: \")\n",
        "  while val:\n",
        "    lst.append(val)\n",
        "    val = input(\"Enter a value to add to the list: \")\n",
        "  print(\"Here is the list:  \", lst)\n",
        "\n",
        "if __name__ == \"__main__\":\n",
        "    main()\n",
        "\n"
      ],
      "metadata": {
        "colab": {
          "base_uri": "https://localhost:8080/"
        },
        "id": "AYzcIojaN0pd",
        "outputId": "6e62875a-c06a-4878-db7d-eb179333ce83"
      },
      "execution_count": 27,
      "outputs": [
        {
          "output_type": "stream",
          "name": "stdout",
          "text": [
            "Enter a value to add to the list: 45\n",
            "Enter a value to add to the list: 34\n",
            "Enter a value to add to the list: 56\n",
            "Enter a value to add to the list: 66\n",
            "Enter a value to add to the list: 77\n",
            "Enter a value to add to the list: 88\n",
            "Enter a value to add to the list: 99\n",
            "Enter a value to add to the list: \n",
            "Here is the list:   ['45', '34', '56', '66', '77', '88', '99']\n"
          ]
        }
      ]
    },
    {
      "cell_type": "markdown",
      "source": [
        "08. Shorten"
      ],
      "metadata": {
        "id": "tQaBbw41O8Su"
      }
    },
    {
      "cell_type": "code",
      "source": [
        "MAX_LENGHT: int = 3\n",
        "\n",
        "def shorten(lst):\n",
        " while len(lst) > MAX_LENGHT:\n",
        "     last_element = lst.pop()\n",
        "     print(f\"The last element of list is {last_element}\")\n",
        "\n",
        "def get_list():\n",
        "  lst = []\n",
        "  element = input(\"Enter an element to add to the list: \")\n",
        "  while element != \"\":\n",
        "    lst.append(element)\n",
        "    element = input(\"Enter an element to add to the list: \")\n",
        "  return lst\n",
        "\n",
        "def main():\n",
        "  lst = get_list()\n",
        "  shorten(lst)\n",
        "\n",
        "if __name__ == \"__main__\":\n",
        "    main()\n"
      ],
      "metadata": {
        "colab": {
          "base_uri": "https://localhost:8080/"
        },
        "id": "hNBLoUpJO_Et",
        "outputId": "ddaa0375-6e41-4ccd-81fa-682666a39cde"
      },
      "execution_count": 32,
      "outputs": [
        {
          "name": "stdout",
          "output_type": "stream",
          "text": [
            "Enter an element to add to the list: zain\n",
            "Enter an element to add to the list: raza\n",
            "Enter an element to add to the list: \n"
          ]
        }
      ]
    }
  ]
}