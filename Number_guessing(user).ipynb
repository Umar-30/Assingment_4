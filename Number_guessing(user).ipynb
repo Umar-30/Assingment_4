{
  "nbformat": 4,
  "nbformat_minor": 0,
  "metadata": {
    "colab": {
      "provenance": [],
      "authorship_tag": "ABX9TyM+499Ym1/HgwEOb8NKnbEU",
      "include_colab_link": true
    },
    "kernelspec": {
      "name": "python3",
      "display_name": "Python 3"
    },
    "language_info": {
      "name": "python"
    }
  },
  "cells": [
    {
      "cell_type": "markdown",
      "metadata": {
        "id": "view-in-github",
        "colab_type": "text"
      },
      "source": [
        "<a href=\"https://colab.research.google.com/github/Umar-30/Assingment_4/blob/main/Number_guessing(user).ipynb\" target=\"_parent\"><img src=\"https://colab.research.google.com/assets/colab-badge.svg\" alt=\"Open In Colab\"/></a>"
      ]
    },
    {
      "cell_type": "markdown",
      "source": [
        "Number_guessing(user)"
      ],
      "metadata": {
        "id": "CqlVPWmhASjn"
      }
    },
    {
      "cell_type": "code",
      "source": [
        "import random\n",
        "\n",
        "print(\"\\n🚀 Welcome to the Number Guessing Game. 🚀\\n\")\n",
        "print(\"\\n👩 User Guesses the Number\\n\")\n",
        "\n",
        "secret_number = random.randint(1, 10)\n",
        "print(\"I have a Secret Number between 1 to 10. Can you guess it? 🤔\")\n",
        "\n",
        "while True:\n",
        "    try:\n",
        "        guess = int(input(\"Guess the Number: \"))\n",
        "\n",
        "        if guess > secret_number:\n",
        "            print(\"Your guess is too high.\")\n",
        "        elif guess < secret_number:\n",
        "            print(\"Your guess is too low.\")\n",
        "        else:\n",
        "            print(\"🎉🎉🎉 Congratulations! Your guess is right. ✅\")\n",
        "            break  # Exit the loop when guessed correctly\n",
        "\n",
        "    except ValueError:\n",
        "        print(\"⚠ Please enter a valid number. 🚫\")\n"
      ],
      "metadata": {
        "colab": {
          "base_uri": "https://localhost:8080/"
        },
        "id": "oyCm2SAEAU9x",
        "outputId": "b69727e3-37e0-4f03-a314-42c24f9a2c22"
      },
      "execution_count": 1,
      "outputs": [
        {
          "output_type": "stream",
          "name": "stdout",
          "text": [
            "\n",
            "🚀 Welcome to the Number Guessing Game. 🚀\n",
            "\n",
            "\n",
            "👩 User Guesses the Number\n",
            "\n",
            "I have a Secret Number between 1 to 10. Can you guess it? 🤔\n",
            "Guess the Number: 3\n",
            "Your guess is too low.\n",
            "Guess the Number: 6\n",
            "Your guess is too high.\n",
            "Guess the Number: 4\n",
            "Your guess is too low.\n",
            "Guess the Number: 5\n",
            "🎉🎉🎉 Congratulations! Your guess is right. ✅\n"
          ]
        }
      ]
    }
  ]
}