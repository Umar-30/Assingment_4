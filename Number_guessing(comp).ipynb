{
  "nbformat": 4,
  "nbformat_minor": 0,
  "metadata": {
    "colab": {
      "provenance": [],
      "authorship_tag": "ABX9TyPgn+So05+WFSeB8m6DreWS",
      "include_colab_link": true
    },
    "kernelspec": {
      "name": "python3",
      "display_name": "Python 3"
    },
    "language_info": {
      "name": "python"
    }
  },
  "cells": [
    {
      "cell_type": "markdown",
      "metadata": {
        "id": "view-in-github",
        "colab_type": "text"
      },
      "source": [
        "<a href=\"https://colab.research.google.com/github/Umar-30/Assingment_4/blob/main/Number_guessing(comp).ipynb\" target=\"_parent\"><img src=\"https://colab.research.google.com/assets/colab-badge.svg\" alt=\"Open In Colab\"/></a>"
      ]
    },
    {
      "cell_type": "markdown",
      "source": [
        "Number_guessing(comp)"
      ],
      "metadata": {
        "id": "hmq9_Wzyu_N6"
      }
    },
    {
      "cell_type": "code",
      "source": [
        "import random\n",
        "\n",
        "print(\"\\n✨ Welcome to the Number Guessing Game! ✨\\n\")\n",
        "print(\"\\n💻 Computer Guesses the Number\\n\")\n",
        "\n",
        "low = 1\n",
        "high = 10\n",
        "\n",
        "print(\"🤔 Think of a number between 1 to 10, and 💻 will try to guess it!\")\n",
        "\n",
        "while low <= high:  # ✅ fixed 'hihg' to 'high'\n",
        "    guess = random.randint(low, high)\n",
        "    print(f\"🤖 Is your number {guess}?\")\n",
        "\n",
        "    feedback = input(\"Enter 'h' for too high, 'l' for too low, or 'c' for correct: \").lower()\n",
        "\n",
        "    if feedback == 'h':\n",
        "        high = guess - 1\n",
        "    elif feedback == 'l':\n",
        "        low = guess + 1  # ✅ fixed '==' to '='\n",
        "    elif feedback == 'c':\n",
        "        print(f\"🎉 Yay! 💻 guessed it correctly! 🎉\")\n",
        "        break  # ✅ Correct exit on success\n",
        "    else:\n",
        "        print(\"⚠ Invalid feedback. Please enter 'h', 'l', or 'c'. 🚫\")\n",
        "\n",
        "if low > high:\n",
        "    print(\"😊 Hmm... It seems there was a misunderstanding. Let's try again! 🔄\")\n",
        "\n"
      ],
      "metadata": {
        "colab": {
          "base_uri": "https://localhost:8080/"
        },
        "id": "bm8qnE8_vBtM",
        "outputId": "ee89d0f5-3984-424a-b8eb-6bd66b277d84"
      },
      "execution_count": 2,
      "outputs": [
        {
          "output_type": "stream",
          "name": "stdout",
          "text": [
            "\n",
            "✨ Welcome to the Number Guessing Game! ✨\n",
            "\n",
            "\n",
            "💻 Computer Guesses the Number\n",
            "\n",
            "🤔 Think of a number between 1 to 10, and 💻 will try to guess it!\n",
            "🤖 Is your number 9?\n",
            "Enter 'h' for too high, 'l' for too low, or 'c' for correct: 8\n",
            "⚠ Invalid feedback. Please enter 'h', 'l', or 'c'. 🚫\n",
            "🤖 Is your number 1?\n",
            "Enter 'h' for too high, 'l' for too low, or 'c' for correct: high\n",
            "⚠ Invalid feedback. Please enter 'h', 'l', or 'c'. 🚫\n",
            "🤖 Is your number 10?\n",
            "Enter 'h' for too high, 'l' for too low, or 'c' for correct: c\n",
            "🎉 Yay! 💻 guessed it correctly! 🎉\n"
          ]
        }
      ]
    }
  ]
}