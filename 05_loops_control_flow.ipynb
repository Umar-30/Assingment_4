{
  "cells": [
    {
      "cell_type": "markdown",
      "metadata": {
        "id": "view-in-github",
        "colab_type": "text"
      },
      "source": [
        "<a href=\"https://colab.research.google.com/github/Umar-30/Assingment_4/blob/main/05_loops_control_flow.ipynb\" target=\"_parent\"><img src=\"https://colab.research.google.com/assets/colab-badge.svg\" alt=\"Open In Colab\"/></a>"
      ]
    },
    {
      "cell_type": "markdown",
      "metadata": {
        "id": "ehDTBOuJL89_"
      },
      "source": [
        "00_guess_my_number"
      ]
    },
    {
      "cell_type": "code",
      "execution_count": null,
      "metadata": {
        "colab": {
          "base_uri": "https://localhost:8080/"
        },
        "id": "hYWuRg-rMAIS",
        "outputId": "12efb54b-51e0-471b-ecba-524373e32b1d"
      },
      "outputs": [
        {
          "name": "stdout",
          "output_type": "stream",
          "text": [
            "I am thuking of a number between 1 to 10...\n",
            "Enter a guess: ...5\n",
            "Your guess is too low\n",
            "\n",
            "Enter a new guess: 8\n",
            "Your guess is too high\n",
            "\n",
            "Enter a new guess: 7\n",
            "Your guess is too high\n",
            "\n",
            "Enter a new guess: 6\n",
            "Congrats! The number was: 6\n"
          ]
        }
      ],
      "source": [
        "import random\n",
        "\n",
        "def main():\n",
        "  # Generate the secert number at random\n",
        "  secret_number = random.randint(1,10)\n",
        "\n",
        "  print(\"I am thuking of a number between 1 to 10...\")\n",
        "\n",
        "  # get user's guess\n",
        "  guess = int(input(\"Enter a guess: ...\"))\n",
        "\n",
        "  while guess != secret_number:\n",
        "    if guess < secret_number:\n",
        "      print(\"Your guess is too low\")\n",
        "    else:\n",
        "      print(\"Your guess is too high\")\n",
        "\n",
        "    print()\n",
        "    # print an empty line to tidy up hte console for new guesses\n",
        "\n",
        "    guess = int(input(\"Enter a new guess: \"))\n",
        "\n",
        "  print(\"Congrats! The number was: \" + str(secret_number))\n",
        "\n",
        "if __name__ == '__main__':\n",
        "  main()"
      ]
    },
    {
      "cell_type": "markdown",
      "metadata": {
        "id": "NPEiADS3ervV"
      },
      "source": [
        "01_fibonacci"
      ]
    },
    {
      "cell_type": "code",
      "execution_count": null,
      "metadata": {
        "colab": {
          "base_uri": "https://localhost:8080/"
        },
        "id": "ve4I-8DYeuCv",
        "outputId": "98b904a3-0ef4-49d1-a4a6-c5e5735f1469"
      },
      "outputs": [
        {
          "name": "stdout",
          "output_type": "stream",
          "text": [
            "0\n",
            "1\n",
            "1\n",
            "2\n",
            "3\n",
            "5\n",
            "8\n",
            "13\n",
            "21\n",
            "34\n",
            "55\n",
            "89\n",
            "144\n",
            "233\n",
            "377\n",
            "610\n",
            "987\n",
            "1597\n",
            "2584\n",
            "4181\n",
            "6765\n"
          ]
        }
      ],
      "source": [
        "MAX_TERM_VALUE : int = 10000\n",
        "\n",
        "def main():\n",
        "  curr_term = 0\n",
        "  next_term = 1\n",
        "  while curr_term <= MAX_TERM_VALUE:\n",
        "    print(curr_term)\n",
        "    term_after_next = curr_term +next_term\n",
        "    curr_term = next_term\n",
        "    next_term = term_after_next\n",
        "\n",
        "if __name__ == '__main__':\n",
        "  main()"
      ]
    },
    {
      "cell_type": "markdown",
      "metadata": {
        "id": "ZEWi7bxpgfvX"
      },
      "source": [
        "02_print_events"
      ]
    },
    {
      "cell_type": "code",
      "execution_count": null,
      "metadata": {
        "colab": {
          "base_uri": "https://localhost:8080/"
        },
        "id": "w3AZPZ4hgno8",
        "outputId": "3d53b5b2-2b63-4e56-96ee-e65ccfe316f5"
      },
      "outputs": [
        {
          "name": "stdout",
          "output_type": "stream",
          "text": [
            "0\n",
            "2\n",
            "4\n",
            "6\n",
            "8\n",
            "10\n",
            "12\n",
            "14\n",
            "16\n",
            "18\n",
            "20\n",
            "22\n",
            "24\n",
            "26\n",
            "28\n",
            "30\n",
            "32\n",
            "34\n",
            "36\n",
            "38\n"
          ]
        }
      ],
      "source": [
        "def main():\n",
        "  # This for_loop start at 0 and counts up 19 (for a total of 20 numbers)\n",
        "  for i in range(20):\n",
        "    print(i * 2) # Use the 'i' value inside the for_loop\n",
        "\n",
        "if __name__ ==\"__main__\":\n",
        "  main()"
      ]
    },
    {
      "cell_type": "markdown",
      "metadata": {
        "id": "q2-lQqLMhrP2"
      },
      "source": [
        "03_wholesome_machine"
      ]
    },
    {
      "cell_type": "code",
      "source": [
        "correct_affirmation = \"I am capable of doing anything I put my mind to.\"\n",
        "\n",
        "def main():\n",
        "  print(\"Welcome to the Wholesome Machine\")\n",
        "  while True:\n",
        "    user_input = input(\"Please type the following affermation:\" + correct_affirmation)\n",
        "    if user_input == correct_affirmation:\n",
        "      print(\"That\\'s right! 😊\")\n",
        "      break\n",
        "    else:\n",
        "      print(\"That was not the affermation. Please Try Again!\")\n",
        "\n",
        "if __name__ == \"__main__\":\n",
        "  main()\n",
        ""
      ],
      "metadata": {
        "colab": {
          "base_uri": "https://localhost:8080/"
        },
        "id": "G5lnG12BnL6j",
        "outputId": "cd6bb1e7-93fb-478f-db4b-108a0386b4b6"
      },
      "execution_count": 4,
      "outputs": [
        {
          "output_type": "stream",
          "name": "stdout",
          "text": [
            "Welcome to the Wholesome Machine\n",
            "Please type the following affermation:I am capable of doing anything I put my mind to.shagufta \n",
            "That was not the affermation. Please Try Again!\n",
            "Please type the following affermation:I am capable of doing anything I put my mind to.I am capable of doing anything I put my mind to.\n",
            "That's right! 😊\n"
          ]
        }
      ]
    },
    {
      "cell_type": "markdown",
      "source": [
        "04_liftoff"
      ],
      "metadata": {
        "id": "fXodOIuErufi"
      }
    },
    {
      "cell_type": "code",
      "execution_count": 6,
      "metadata": {
        "id": "Q1xFEVa-k6PZ",
        "colab": {
          "base_uri": "https://localhost:8080/"
        },
        "outputId": "2918db29-06a2-48d7-9a52-49d0de34e8ae"
      },
      "outputs": [
        {
          "output_type": "stream",
          "name": "stdout",
          "text": [
            "10 9 8 7 6 5 4 3 2 1 🚀 Liftoff!\n"
          ]
        }
      ],
      "source": [
        "def main():\n",
        "    for i in range(10, 0, -1):\n",
        "        print(i, end=\" \")\n",
        "    print(\"🚀 Liftoff!\")\n",
        "\n",
        "if __name__ == \"__main__\":\n",
        "    main()\n"
      ]
    },
    {
      "cell_type": "markdown",
      "metadata": {
        "id": "cPAc76dPmdC3"
      },
      "source": [
        "05_double_it"
      ]
    },
    {
      "cell_type": "code",
      "execution_count": 7,
      "metadata": {
        "id": "bNwRvjiCmrSQ",
        "colab": {
          "base_uri": "https://localhost:8080/"
        },
        "outputId": "a654e5a0-6599-4d9a-940b-cf2b21284abc"
      },
      "outputs": [
        {
          "output_type": "stream",
          "name": "stdout",
          "text": [
            "Enter a number: 4\n",
            "8\n",
            "16\n",
            "32\n",
            "64\n",
            "128\n"
          ]
        }
      ],
      "source": [
        "def main():\n",
        "  user_value = int(input(\"Enter a number: \"))\n",
        "  while user_value < 100:\n",
        "    user_value = user_value * 2\n",
        "    print(user_value)\n",
        "\n",
        "if __name__ =='__main__':\n",
        "  main()"
      ]
    }
  ],
  "metadata": {
    "colab": {
      "provenance": [],
      "authorship_tag": "ABX9TyOrvBISfQBx96inlBMFiy4r",
      "include_colab_link": true
    },
    "kernelspec": {
      "display_name": "Python 3",
      "name": "python3"
    },
    "language_info": {
      "name": "python"
    }
  },
  "nbformat": 4,
  "nbformat_minor": 0
}