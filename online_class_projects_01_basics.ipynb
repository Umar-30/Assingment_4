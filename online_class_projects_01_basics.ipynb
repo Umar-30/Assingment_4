{
  "nbformat": 4,
  "nbformat_minor": 0,
  "metadata": {
    "colab": {
      "provenance": [],
      "authorship_tag": "ABX9TyP54yB9X5b47wwy0sBF69N1",
      "include_colab_link": true
    },
    "kernelspec": {
      "name": "python3",
      "display_name": "Python 3"
    },
    "language_info": {
      "name": "python"
    }
  },
  "cells": [
    {
      "cell_type": "markdown",
      "metadata": {
        "id": "view-in-github",
        "colab_type": "text"
      },
      "source": [
        "<a href=\"https://colab.research.google.com/github/Umar-30/Assingment_4/blob/main/online_class_projects_01_basics.ipynb\" target=\"_parent\"><img src=\"https://colab.research.google.com/assets/colab-badge.svg\" alt=\"Open In Colab\"/></a>"
      ]
    },
    {
      "cell_type": "markdown",
      "source": [
        "00_joke_bot\n"
      ],
      "metadata": {
        "id": "YgGRkB6VvirD"
      }
    },
    {
      "cell_type": "code",
      "source": [
        "prompt : str = \"What do you want to? \"\n",
        "joke : str = \"Why did the math book look sad? Because it had too many problems! 📚😄\"\n",
        "sorry: str = \"Sorry I only tell jokes.\"\n",
        "\n",
        "def main():\n",
        "  user_input = input(prompt)\n",
        "  user_input = user_input.strip().lower()\n",
        "  if \"joke\" in user_input:\n",
        "    print(joke)\n",
        "  else:\n",
        "    print(sorry)\n",
        "\n",
        "if __name__ == \"__main__\":\n",
        "  main()"
      ],
      "metadata": {
        "colab": {
          "base_uri": "https://localhost:8080/"
        },
        "id": "vTmnPhZEvpqX",
        "outputId": "da059c05-d7a5-433c-87b1-762cefb602fe"
      },
      "execution_count": 1,
      "outputs": [
        {
          "output_type": "stream",
          "name": "stdout",
          "text": [
            "What do you want to? joke\n",
            "Why did the math book look sad? Because it had too many problems! 📚😄\n"
          ]
        }
      ]
    },
    {
      "cell_type": "markdown",
      "source": [
        "01_double_it\n"
      ],
      "metadata": {
        "id": "lMy8uszs27T8"
      }
    },
    {
      "cell_type": "code",
      "source": [
        "def main():\n",
        "  user_value = int(input(\"Enter a number: \"))\n",
        "  while user_value < 100:\n",
        "    user_value = user_value * 2\n",
        "    print(user_value)\n",
        "\n",
        "if __name__ =='__main__':\n",
        "  main()"
      ],
      "metadata": {
        "colab": {
          "base_uri": "https://localhost:8080/"
        },
        "id": "XG0i9Vmv29tE",
        "outputId": "01472f9b-04aa-416d-b2bb-3d464823606b"
      },
      "execution_count": 2,
      "outputs": [
        {
          "output_type": "stream",
          "name": "stdout",
          "text": [
            "Enter a number: 4\n",
            "8\n",
            "16\n",
            "32\n",
            "64\n",
            "128\n"
          ]
        }
      ]
    },
    {
      "cell_type": "markdown",
      "source": [
        "02_liftoff\n"
      ],
      "metadata": {
        "id": "mpLpTmeN3I8A"
      }
    },
    {
      "cell_type": "code",
      "source": [
        "def main():\n",
        "    for i in range(10, 0, -1):\n",
        "        print(i, end=\" \")\n",
        "    print(\"🚀 Liftoff!\")\n",
        "\n",
        "if __name__ == \"__main__\":\n",
        "    main()\n"
      ],
      "metadata": {
        "colab": {
          "base_uri": "https://localhost:8080/"
        },
        "id": "Sd9spHT83MLv",
        "outputId": "26529a61-6532-4c87-c662-866eb0c1ca85"
      },
      "execution_count": 3,
      "outputs": [
        {
          "output_type": "stream",
          "name": "stdout",
          "text": [
            "10 9 8 7 6 5 4 3 2 1 🚀 Liftoff!\n"
          ]
        }
      ]
    },
    {
      "cell_type": "markdown",
      "source": [
        "03_guess_my_number"
      ],
      "metadata": {
        "id": "53_JQtQB3WCu"
      }
    },
    {
      "cell_type": "code",
      "source": [
        "import random\n",
        "\n",
        "def main():\n",
        "  # Generate the secert number at random\n",
        "  secret_number = random.randint(1,10)\n",
        "\n",
        "  print(\"I am thuking of a number between 1 to 10...\")\n",
        "\n",
        "  # get user's guess\n",
        "  guess = int(input(\"Enter a guess: ...\"))\n",
        "\n",
        "  while guess != secret_number:\n",
        "    if guess < secret_number:\n",
        "      print(\"Your guess is too low\")\n",
        "    else:\n",
        "      print(\"Your guess is too high\")\n",
        "\n",
        "    print()\n",
        "    # print an empty line to tidy up hte console for new guesses\n",
        "\n",
        "    guess = int(input(\"Enter a new guess: \"))\n",
        "\n",
        "  print(\"Congrats! The number was: \" + str(secret_number))\n",
        "\n",
        "if __name__ == '__main__':\n",
        "  main()"
      ],
      "metadata": {
        "id": "nAoKs_Jb3YOb"
      },
      "execution_count": null,
      "outputs": []
    },
    {
      "cell_type": "markdown",
      "source": [
        "04_random_numbers\n"
      ],
      "metadata": {
        "id": "DF0eEsa_0QQE"
      }
    },
    {
      "cell_type": "code",
      "source": [
        "import random\n",
        "\n",
        "number: int = 10\n",
        "min_num: int = 1\n",
        "max_num: int = 100\n",
        "\n",
        "def main():\n",
        "    for _ in range(number):  # using the 'number' variable here\n",
        "        print(random.randint(min_num, max_num), end=\" \")\n",
        "\n",
        "if __name__ == '__main__':\n",
        "    main()\n"
      ],
      "metadata": {
        "colab": {
          "base_uri": "https://localhost:8080/"
        },
        "id": "XLPc95Um0pkd",
        "outputId": "04522fe7-23ef-4ea7-aefd-f92644169503"
      },
      "execution_count": 5,
      "outputs": [
        {
          "output_type": "stream",
          "name": "stdout",
          "text": [
            "29 63 77 57 29 53 99 42 79 24 "
          ]
        }
      ]
    }
  ]
}