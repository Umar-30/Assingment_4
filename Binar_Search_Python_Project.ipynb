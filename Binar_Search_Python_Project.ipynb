{
  "nbformat": 4,
  "nbformat_minor": 0,
  "metadata": {
    "colab": {
      "provenance": [],
      "authorship_tag": "ABX9TyMgG8l7ACfkNaMz1OYL3g/2",
      "include_colab_link": true
    },
    "kernelspec": {
      "name": "python3",
      "display_name": "Python 3"
    },
    "language_info": {
      "name": "python"
    }
  },
  "cells": [
    {
      "cell_type": "markdown",
      "metadata": {
        "id": "view-in-github",
        "colab_type": "text"
      },
      "source": [
        "<a href=\"https://colab.research.google.com/github/Umar-30/Assingment_4/blob/main/Binar_Search_Python_Project.ipynb\" target=\"_parent\"><img src=\"https://colab.research.google.com/assets/colab-badge.svg\" alt=\"Open In Colab\"/></a>"
      ]
    },
    {
      "cell_type": "markdown",
      "source": [
        "Binary Search Python Project"
      ],
      "metadata": {
        "id": "rl16ITOf3l0o"
      }
    },
    {
      "cell_type": "code",
      "source": [
        "def binary_search(arr,terget):\n",
        "  \"\"\"perform binary search on a sorted array\"\"\"\n",
        "  low = 0\n",
        "  high = len(arr) -1\n",
        "  while low <= high:\n",
        "    mid = (low + high) // 2\n",
        "    guess = arr[mid]\n",
        "\n",
        "    print(f\"Checking index {mid}, value {guess}\")\n",
        "    if guess == terget:\n",
        "      return mid # Target found\n",
        "    elif guess < terget:\n",
        "      low = mid + 1 # Search right half\n",
        "    else:\n",
        "      high = mid - 1 # search left half\n",
        "  return -1 # Target not found\n",
        "\n",
        "# simple sorted list\n",
        "numbers = [1, 3, 5, 7, 9, 11, 13, 15, 17, 19]\n",
        "\n",
        "# Input from  user\n",
        "try:\n",
        "  user_input = int(input(\"Enter a number to search for: \"))\n",
        "  result = binary_search(numbers, user_input)\n",
        "\n",
        "  if result != -1:\n",
        "    print(f\"The number {user_input} is found at index {result}.✅\")\n",
        "  else:\n",
        "    print(f\"The number {user_input} is not found in the list. ❌\")\n",
        "\n",
        "except ValueError:\n",
        "  print(\"Invalid number. Please enter a valid number.\")\n",
        "\n",
        "\n"
      ],
      "metadata": {
        "colab": {
          "base_uri": "https://localhost:8080/"
        },
        "id": "C2VEdgx13nzz",
        "outputId": "f2f5cbc4-2275-4dfe-d632-50f2967a578a"
      },
      "execution_count": 3,
      "outputs": [
        {
          "output_type": "stream",
          "name": "stdout",
          "text": [
            "Enter a number to search for: 17\n",
            "Checking index 4, value 9\n",
            "Checking index 7, value 15\n",
            "Checking index 8, value 17\n",
            "The number 17 is found at index 8.✅\n"
          ]
        }
      ]
    }
  ]
}