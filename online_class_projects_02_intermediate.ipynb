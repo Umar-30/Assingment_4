{
  "nbformat": 4,
  "nbformat_minor": 0,
  "metadata": {
    "colab": {
      "provenance": [],
      "authorship_tag": "ABX9TyMUvWswZ10zhotAclM2k86b",
      "include_colab_link": true
    },
    "kernelspec": {
      "name": "python3",
      "display_name": "Python 3"
    },
    "language_info": {
      "name": "python"
    }
  },
  "cells": [
    {
      "cell_type": "markdown",
      "metadata": {
        "id": "view-in-github",
        "colab_type": "text"
      },
      "source": [
        "<a href=\"https://colab.research.google.com/github/Umar-30/Assingment_4/blob/main/online_class_projects_02_intermediate.ipynb\" target=\"_parent\"><img src=\"https://colab.research.google.com/assets/colab-badge.svg\" alt=\"Open In Colab\"/></a>"
      ]
    },
    {
      "cell_type": "markdown",
      "source": [
        "01. high low game"
      ],
      "metadata": {
        "id": "c_U08xxmTox4"
      }
    },
    {
      "cell_type": "code",
      "source": [
        "import random\n",
        "\n",
        "rounds = 5\n",
        "\n",
        "def main():\n",
        "    print(\"Welcome to the High-Low Game!🎮\")\n",
        "    print('--------------------------------')\n",
        "\n",
        "    your_score = 0\n",
        "    for i in range(rounds):\n",
        "        print(f\"Round {i + 1}\")\n",
        "\n",
        "        computer_number = random.randint(1, 100)\n",
        "        user_number = int(input(\"Enter a number between 1 and 100: \"))\n",
        "        print(\"Your number is\", user_number)\n",
        "\n",
        "        choice = input(\"Do you think your number is higher or lower than the computer's number? \").lower()\n",
        "        higher_and_correct = choice == \"higher\" and user_number > computer_number\n",
        "        lower_and_correct = choice == \"lower\" and user_number < computer_number\n",
        "\n",
        "        if higher_and_correct or lower_and_correct:\n",
        "            print(\"You were correct! ✅ The computer's number was\", computer_number)\n",
        "            your_score += 1\n",
        "        else:\n",
        "            print(\"You were incorrect! ❌ The computer's number was\", computer_number)\n",
        "\n",
        "        print(\"Your score is\", your_score)\n",
        "        print()\n",
        "# Extension 2: Conditional ending messages based on performance\n",
        "    print(\"Your final score is\", your_score)\n",
        "\n",
        "    if your_score == rounds:\n",
        "        print(\"Wow! You played perfectly!\")\n",
        "    elif your_score > rounds // 2:\n",
        "        print(\"Good job, you played really well!\")\n",
        "    else:\n",
        "        print(\"Better luck next time!\")\n",
        "\n",
        "    print(\"Thanks for playing!\")\n",
        "    print(\"--------------------------------\")\n",
        "\n",
        "if __name__ == \"__main__\":\n",
        "    main()\n"
      ],
      "metadata": {
        "colab": {
          "base_uri": "https://localhost:8080/"
        },
        "id": "YDFtAJeyTpVV",
        "outputId": "11c14fde-ab9d-4527-d5cb-a650cc9db962"
      },
      "execution_count": null,
      "outputs": [
        {
          "output_type": "stream",
          "name": "stdout",
          "text": [
            "Welcome to the High-Low Game!\n",
            "--------------------------------\n",
            "Round 1\n",
            "Enter a number between 1 and 100: 23\n",
            "Your number is 23\n",
            "Do you think your number is higher or lower than the computer's number? lower\n",
            "You were correct! ✅ The computer's number was 30\n",
            "Your score is 1\n",
            "\n",
            "Round 2\n",
            "Enter a number between 1 and 100: 14\n",
            "Your number is 14\n",
            "Do you think your number is higher or lower than the computer's number? higher\n",
            "You were incorrect! ❌ The computer's number was 58\n",
            "Your score is 1\n",
            "\n",
            "Round 3\n",
            "Enter a number between 1 and 100: 32\n",
            "Your number is 32\n",
            "Do you think your number is higher or lower than the computer's number? lower\n",
            "You were incorrect! ❌ The computer's number was 32\n",
            "Your score is 1\n",
            "\n",
            "Round 4\n",
            "Enter a number between 1 and 100: 87\n",
            "Your number is 87\n",
            "Do you think your number is higher or lower than the computer's number? higher\n",
            "You were correct! ✅ The computer's number was 22\n",
            "Your score is 2\n",
            "\n",
            "Round 5\n",
            "Enter a number between 1 and 100: 54\n",
            "Your number is 54\n",
            "Do you think your number is higher or lower than the computer's number? lower\n",
            "You were correct! ✅ The computer's number was 56\n",
            "Your score is 3\n",
            "\n",
            "Your final score is 3\n",
            "Good job, you played really well!\n",
            "Thanks for playing!\n",
            "--------------------------------\n"
          ]
        }
      ]
    },
    {
      "cell_type": "markdown",
      "source": [
        "The Planetary Weight Calculator"
      ],
      "metadata": {
        "id": "e0BuvONFGvVu"
      }
    },
    {
      "cell_type": "code",
      "source": [
        "def main():\n",
        "    print(\"Welcome to the Planetary Weight Calculator 🌍🧮\")\n",
        "    print(\"------------------------------------------\")\n",
        "\n",
        "    earth_weight = int(input(\"Enter your weight on Earth: \"))\n",
        "\n",
        "    gravity_ratio = {\n",
        "        \"Mercury\": 0.38,\n",
        "        \"Venus\": 0.91,\n",
        "        \"Mars\": 0.38,\n",
        "        \"Jupiter\": 2.34,\n",
        "        \"Saturn\": 1.06,\n",
        "        \"Uranus\": 0.92,\n",
        "        \"Neptune\": 1.19\n",
        "    }\n",
        "\n",
        "    print(\"\\nSelect a planet:\")\n",
        "    for planet in gravity_ratio:\n",
        "        print(f\"- {planet}\")\n",
        "\n",
        "    planet_choice = input(\"Enter the name of the planet: \").title()\n",
        "\n",
        "    if planet_choice in gravity_ratio:\n",
        "        new_weight = earth_weight * gravity_ratio[planet_choice]\n",
        "        print(f\"Your weight on {planet_choice} is {new_weight:.2f} kg.-\")\n",
        "    else:\n",
        "        print(\"Invalid planet choice.\")\n",
        "\n",
        "if __name__ == \"__main__\":\n",
        "    main()"
      ],
      "metadata": {
        "id": "Zojqh40ZsJha",
        "colab": {
          "base_uri": "https://localhost:8080/"
        },
        "outputId": "14d227c1-b885-4c34-c942-a8ab6530cb11"
      },
      "execution_count": 1,
      "outputs": [
        {
          "output_type": "stream",
          "name": "stdout",
          "text": [
            "Welcome to the Planetary Weight Calculator\n",
            "------------------------------------------\n",
            "Enter your weight on Earth: 54\n",
            "\n",
            "Select a planet:\n",
            "- Mercury\n",
            "- Venus\n",
            "- Mars\n",
            "- Jupiter\n",
            "- Saturn\n",
            "- Uranus\n",
            "- Neptune\n",
            "Enter the name of the planet: jupiter\n",
            "Your weight on Jupiter is 126.36 kg.\n"
          ]
        }
      ]
    },
    {
      "cell_type": "markdown",
      "source": [
        "Lists and Dicts"
      ],
      "metadata": {
        "id": "2MLq8jtCxLaM"
      }
    },
    {
      "cell_type": "code",
      "source": [
        "my_list = ['apple', 'orange', 'mango', 'pear', 'peach', 'grapes']\n",
        "\n",
        "def access_element(my_list,index):\n",
        " \"\"\"Returns the element at the specified index, or an error message if out of range.\"\"\"\n",
        " if 0 <= index < len(my_list):\n",
        "  return f\"Element at index {index}: {my_list[index]}\"\n",
        " return \"Index out of range\"\n",
        "\n",
        "def modify_element(my_list,index,new_value):\n",
        "  \"\"\"Modifies the element at the specified index with the new value.\"\"\"\n",
        "  if 0 <= index < len(my_list):\n",
        "   old_value = my_list[index]\n",
        "  my_list[index] = new_value\n",
        "  return f\"Element at index {index} modified from {old_value} to {new_value}\"\n",
        "  return f\"Index out of range\"\n",
        "\n",
        "def slice_list(my_list,start,end):\n",
        " \"\"\"Returns a new list containing the elements from the start index to the end index (exclusive).\"\"\"\n",
        " if 0 <= start < len(my_list) and 0 <= end < len(my_list):\n",
        "  return f'slice list: {my_list[start:end]}'\n",
        " return (\"Invalid slice indicates\")\n",
        "\n",
        "def access_element(lst, index):\n",
        "    try:\n",
        "        return f\"Element at index {index} is '{lst[index]}'\"\n",
        "    except IndexError:\n",
        "        return \"Invalid index. Please try again.\"\n",
        "\n",
        "def modify_element(lst, index, new_value):\n",
        "    try:\n",
        "        old_value = lst[index]\n",
        "        lst[index] = new_value\n",
        "        return f\"Replaced '{old_value}' with '{new_value}'\"\n",
        "    except IndexError:\n",
        "        return \"Invalid index. Please try again.\"\n",
        "\n",
        "def slice_list(lst, start, end):\n",
        "    return f\"List slice from index {start} to {end}: {lst[start:end]}\"\n",
        "\n",
        "def list_game():\n",
        "    print(\"Welcome to the List Manipulation Game\")\n",
        "    print(\"--------------------------------------\")\n",
        "\n",
        "    my_list = ['apple', 'orange', 'mango', 'pear', 'peach', 'grapes']\n",
        "\n",
        "    while True:\n",
        "        print(\"\\nCurrent List:\", my_list)\n",
        "        print(\"Select an option:\")\n",
        "        print(\"1. Access Element\")\n",
        "        print(\"2. Modify Element\")\n",
        "        print(\"3. Slice List\")\n",
        "        print(\"4. Quit\")\n",
        "\n",
        "        choice = input(\"Enter your choice (1/2/3/4): \")\n",
        "\n",
        "        if choice == '1':\n",
        "            index = int(input(\"Enter the index of the element you want to access: \"))\n",
        "            print(access_element(my_list, index))\n",
        "\n",
        "        elif choice == '2':\n",
        "            index = int(input(\"Enter the index of the element you want to modify: \"))\n",
        "            new_value = input(\"Enter the new value for the element: \")\n",
        "            print(modify_element(my_list, index, new_value))\n",
        "\n",
        "        elif choice == '3':\n",
        "            start = int(input(\"Enter the start index for the slice: \"))\n",
        "            end = int(input(\"Enter the end index for the slice: \"))\n",
        "            print(slice_list(my_list, start, end))\n",
        "\n",
        "        elif choice == '4':\n",
        "            print(\"Exiting the game. Thanks for playing!\")\n",
        "            break\n",
        "\n",
        "        else:\n",
        "            print(\"Invalid choice. Please select a valid option.\")\n",
        "\n",
        "if __name__ == \"__main__\":\n",
        "    list_game()\n",
        "\n"
      ],
      "metadata": {
        "id": "ojAhLKbBxVTd",
        "colab": {
          "base_uri": "https://localhost:8080/"
        },
        "outputId": "b59d4024-bc7d-4faf-bce9-32fa7915647d"
      },
      "execution_count": 5,
      "outputs": [
        {
          "output_type": "stream",
          "name": "stdout",
          "text": [
            "Welcome to the List Manipulation Game\n",
            "--------------------------------------\n",
            "\n",
            "Current List: ['apple', 'orange', 'mango', 'pear', 'peach', 'grapes']\n",
            "Select an option:\n",
            "1. Access Element\n",
            "2. Modify Element\n",
            "3. Slice List\n",
            "4. Quit\n",
            "Enter your choice (1/2/3/4): 1\n",
            "Enter the index of the element you want to access: 2\n",
            "Element at index 2 is 'mango'\n",
            "\n",
            "Current List: ['apple', 'orange', 'mango', 'pear', 'peach', 'grapes']\n",
            "Select an option:\n",
            "1. Access Element\n",
            "2. Modify Element\n",
            "3. Slice List\n",
            "4. Quit\n",
            "Enter your choice (1/2/3/4): 2\n",
            "Enter the index of the element you want to modify: 5\n",
            "Enter the new value for the element: banana\n",
            "Replaced 'grapes' with 'banana'\n",
            "\n",
            "Current List: ['apple', 'orange', 'mango', 'pear', 'peach', 'banana']\n",
            "Select an option:\n",
            "1. Access Element\n",
            "2. Modify Element\n",
            "3. Slice List\n",
            "4. Quit\n",
            "Enter your choice (1/2/3/4): 3\n",
            "Enter the start index for the slice: 2\n",
            "Enter the end index for the slice: 5\n",
            "List slice from index 2 to 5: ['mango', 'pear', 'peach']\n",
            "\n",
            "Current List: ['apple', 'orange', 'mango', 'pear', 'peach', 'banana']\n",
            "Select an option:\n",
            "1. Access Element\n",
            "2. Modify Element\n",
            "3. Slice List\n",
            "4. Quit\n",
            "Enter your choice (1/2/3/4): 3\n",
            "Enter the start index for the slice: 5\n",
            "Enter the end index for the slice: 1\n",
            "List slice from index 5 to 1: []\n",
            "\n",
            "Current List: ['apple', 'orange', 'mango', 'pear', 'peach', 'banana']\n",
            "Select an option:\n",
            "1. Access Element\n",
            "2. Modify Element\n",
            "3. Slice List\n",
            "4. Quit\n",
            "Enter your choice (1/2/3/4): 4\n",
            "Exiting the game. Thanks for playing!\n"
          ]
        }
      ]
    }
  ]
}